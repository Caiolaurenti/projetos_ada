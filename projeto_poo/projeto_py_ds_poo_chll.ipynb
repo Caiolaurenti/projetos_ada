{
 "cells": [
  {
   "cell_type": "code",
   "execution_count": 1,
   "id": "59ab1ca7",
   "metadata": {},
   "outputs": [],
   "source": [
    "import datetime"
   ]
  },
  {
   "cell_type": "markdown",
   "id": "72ec4a53",
   "metadata": {},
   "source": [
    "### Classe Cliente\n",
    "\n",
    "Do jeito que fiz, a classe cliente pode interagir com diferentes lojas. Podemos pensar nela como uma espécie de perfil simplificado em um *marketplace* de aluguel de bicicletas. Assim, a função de calcular o total depois de um aluguel de bicicletas é feita por um método dessa mesma classe.\n",
    "\n",
    "Quanto à promoção de aluguel em família, decidi que a promoção só é válida para alugueis do mesmo tipo de 3 bicicletas ou mais. No entanto, é possível devolver separadamente as bicicletas alugadas na promoção, sendo o desconto aplicado separadamente a cada uma delas. Assim, posso devolver as bicicletas com valor promocional em dias diferentes, e a restrição de que o tipo de aluguel seja o mesmo impede fraudes (por exemplo, conseguir desconto de 20% no aluguel de 1 semana alugando 2 por hor"
   ]
  },
  {
   "cell_type": "code",
   "execution_count": 2,
   "id": "1b4776b0",
   "metadata": {},
   "outputs": [],
   "source": [
    "class Cliente:\n",
    "    \n",
    "    def __init__(self, nome, cpf):\n",
    "        self.__nome = nome\n",
    "        self.__cpf = cpf\n",
    "        self.__alugadas = {}\n",
    "    \n",
    "    # getter de cpf, pois este é um atributo privado\n",
    "    def getCPF(self):\n",
    "        return self.__cpf\n",
    "    \n",
    "    # getter de todas as bicicletas atualmente alugadas pelo cliente, com a respectiva loja de origem\n",
    "    def getAlugadas(self):\n",
    "        return self.__alugadas\n",
    "    \n",
    "    def ver_estoque(self, loja):\n",
    "        disp = loja.getDisponibilidade()\n",
    "        return [bicicleta for bicicleta in disp if disp[bicicleta]]\n",
    "    \n",
    "    def ver_preco(self, loja):\n",
    "        return loja.getPreco()\n",
    "   \n",
    "    # alugar emprega o método de aluguel da loja em que se pretende realizar a transação\n",
    "    def alugar(self, loja, bicicletas, data, modo = 'h'):\n",
    "        alugadas_temp = []\n",
    "        cnpj_loja = loja.getCNPJ()\n",
    "        # bicicletas é uma lista, e alugamos uma de cada vez com o método da loja\n",
    "        for bicicleta in bicicletas:\n",
    "            alugou = loja.alugar(self, bicicleta, data, modo)\n",
    "            #a bicicleta só entra em self.__alugadas se, de fato, for alugada\n",
    "            if alugou:\n",
    "                alugadas_temp.append(bicicleta)\n",
    "            else:\n",
    "                print(f'Cliente {self.__nome}: Não foi possível alugar a bicicleta {bicicleta}!')\n",
    "        numero_alugadas = len(alugadas_temp)\n",
    "        promocao = numero_alugadas >= 3\n",
    "        # self.__alugadas é um dict com chaves da forma (bicicleta, cnpj_loja), cujos valores são se vale ou não a promção\n",
    "        self.__alugadas.update({(bicicleta, cnpj_loja) : promocao for bicicleta in alugadas_temp})\n",
    "        print(f'Cliente {self.__nome}: Foram alugadas {numero_alugadas} bicicletas!')\n",
    "        if promocao:\n",
    "            print(f'Cliente {self.__nome}: As bicicletas alugadas têm 30% de desconto em seu aluguel!')\n",
    "            \n",
    "    \n",
    "    def devolver(self, loja, bicicletas, data):\n",
    "        cnpj_loja = loja.getCNPJ()\n",
    "        total = 0\n",
    "        # aplica-se a devolução em loja para cada bicicleta\n",
    "        for bicicleta in bicicletas:\n",
    "            devolveu = loja.devolver(self, bicicleta, data)\n",
    "            if devolveu:\n",
    "                self.__alugadas.pop((bicicleta, cnpj_loja))\n",
    "                total += devolveu\n",
    "            else:\n",
    "                print(f'Cliente {self.__nome}: A bicicleta {bicicleta} não pôde ser devolvida!')\n",
    "        print(f'Preço total do aluguel na loja {loja.getNome()} = R$ {total:.2f}')\n",
    "        \n",
    "    "
   ]
  },
  {
   "cell_type": "markdown",
   "id": "0bf6a9ae",
   "metadata": {},
   "source": [
    "### Classe Loja\n",
    "\n",
    "A classe loja tem atributos secretos. Como é possível fazer várias lojas diferentes, deixei os preços por modo de aluguel como sendo atributo que pode variar de objeto por objeto, mas mantive como padrão os preços estipulados pelo projeto. Há um atributo para o catálogo, um atributo para a disponibilidade (todas as bicicletas estão disponível quando uma instância de Loja é criada, pois ainda não houve aluguéis), um atributo que é um registro, por CPF, dos clientes e das bicicletas por eles alugadas (incluindo data e preço do aluguel), e um atributo de CPNJ - que atua como identificador único das lojas."
   ]
  },
  {
   "cell_type": "code",
   "execution_count": 3,
   "id": "28e7d45f",
   "metadata": {},
   "outputs": [],
   "source": [
    "class Loja:\n",
    "    \n",
    "    def __init__(self, nome, catalogo, cnpj, modos_preco = {'h': 5, 'd': 25, 's': 100}):\n",
    "        self.__nome = nome\n",
    "        self.__catalogo = catalogo\n",
    "        self.__disponibilidade = {bicicleta: True for bicicleta in catalogo}\n",
    "        self.__info = {}\n",
    "        self.__cnpj = cnpj\n",
    "        self.__modos_preco = modos_preco\n",
    "    \n",
    "    # getters para os atributos privados\n",
    "    def getNome(self):\n",
    "        return self.__nome\n",
    "    \n",
    "    def getDisponibilidade(self):\n",
    "        return self.__disponibilidade\n",
    "    \n",
    "    def getPreco(self):\n",
    "        return self.__modos_preco\n",
    "    \n",
    "    def getCNPJ(self):\n",
    "        return self.__cnpj\n",
    "    \n",
    "    # antes de alugar, um cliente deve se cadastrar na loja\n",
    "    def cadastrar_cliente(self, cliente):\n",
    "        #cada cliente é registrado como um dict, cujas chaves serão as bicicletas alugadas, e os valores, os dados do aluguel\n",
    "        if cliente.getCPF() not in self.__info:\n",
    "            self.__info[cliente.getCPF()] = {}\n",
    "    \n",
    "    def alugar(self, cliente, bicicleta, data, modo = 'h'):\n",
    "        # se o cliente não for cadastrado, não é possível fazer o aluguel\n",
    "        if cliente.getCPF() not in self.__info:\n",
    "            print(f'Loja {self.__nome}: CPF não cadastrado!')\n",
    "            return None\n",
    "        # verifica se a bicicleta está no catálogo e se está disponível\n",
    "        if bicicleta in self.__catalogo and self.__disponibilidade.get(bicicleta):\n",
    "            # registra-se a bicicleta no cadastro do cliente, e muda altera a disponibilidade da bicicleta\n",
    "            self.__info[cliente.getCPF()][bicicleta] = (data, modo)\n",
    "            self.__disponibilidade[bicicleta] = False\n",
    "            # o retorno True indica que o aluguel foi efetuado com sucesso\n",
    "            return True\n",
    "        # tratando os outros casos possíveis. Note que, se a bicicleta não estiver disponível, o retorno é None - que é falsy.\n",
    "        elif bicicleta not in self.__catalogo:\n",
    "            print(f'Loja {self.__nome}: Não foi possível alugar a bicicleta {bicicleta}, pois ela não consta no catálogo!')\n",
    "        elif not self.__disponibilidade[bicicleta]:\n",
    "            print(f'Loja {self.__nome}: {bicicleta} não está disponível!')\n",
    "    \n",
    "    def devolver(self, cliente, bicicleta, data):\n",
    "        # antes de tudo, verifica-se se o cliente está nos registros de aluguel. Note, novamente, que None é falsy.\n",
    "        if cliente.getCPF() not in self.__info:\n",
    "            print(f'Loja {self.__nome}: CPF não cadastrado!')\n",
    "            return None\n",
    "        cnpj_loja = self.__cnpj\n",
    "        registro_alugadas = self.__info[cliente.getCPF()]\n",
    "        cliente_alugadas = cliente.getAlugadas()\n",
    "        # verifica se a bicicleta está nos registros do cliente e da loja\n",
    "        if (bicicleta, cnpj_loja) in cliente_alugadas and bicicleta in registro_alugadas:\n",
    "            data_aluguel, modo = registro_alugadas.pop(bicicleta)\n",
    "            # infelizmente, objetos do tipo timedelta só têm dias, segundos e microssegundos. Assim, conversão de tempo é necessária.\n",
    "            tempo_aluguel = data - data_aluguel\n",
    "            dias_aluguel = tempo_aluguel.days\n",
    "            tempo_minutos = tempo_aluguel.seconds // 60\n",
    "            # modos_tempo é a variável que recupera a quantidade relevante de tempo para cada modo de aluguel\n",
    "            modos_tempo = {'h' : tempo_minutos // 60, 'd': dias_aluguel, 's': dias_aluguel // 7}\n",
    "            # os desvios calculam quando não se completa uma unidade relevante de tempo no aluguel, mas mesmo assim se cobra essa unidade - com alguma tolerância.\n",
    "            desvio_h = 1 if tempo_minutos % 60 >= 20 or modos_tempo['h'] == 0 else 0\n",
    "            desvio_d = 1 if modos_tempo['h'] % 24 >= 12 or dias_aluguel == 0 else 0\n",
    "            desvio_s = 1 if dias_aluguel % 7 >= 2 or modos_tempo['s'] == 0 else 0\n",
    "            # desvios para cada modo de aluguel\n",
    "            desvio = {'h': desvio_h, 'd': desvio_d, 's': desvio_s }\n",
    "            promocao = cliente_alugadas[(bicicleta, cnpj_loja)]\n",
    "            desconto = 0.3 if promocao else 0\n",
    "            preco = (modos_tempo[modo] + desvio[modo])*self.__modos_preco[modo]*(1 - desconto)\n",
    "            # depois de devolvida, a bicicleta novamente fica disponível\n",
    "            self.__disponibilidade[bicicleta] = True\n",
    "            # note que se preco > 0, o retorno é truthy\n",
    "            return preco\n",
    "        else:\n",
    "            print(f'Loja {self.__nome}: A bicicleta {bicicleta} não consta na lista de alugadas do cliente, ou há um problema no sistema!') "
   ]
  },
  {
   "cell_type": "markdown",
   "id": "40cc1c1f",
   "metadata": {},
   "source": [
    "Abaixo, alguns teste que fiz para verificar se o programa estava funcionando de acordo com o requerido. Se quiser, pode testar algumas coisas também!"
   ]
  },
  {
   "cell_type": "code",
   "execution_count": 4,
   "id": "58774d87",
   "metadata": {},
   "outputs": [],
   "source": [
    "cliente1 = Cliente('Ricardo', '00000000000')"
   ]
  },
  {
   "cell_type": "code",
   "execution_count": 5,
   "id": "9824805c",
   "metadata": {},
   "outputs": [],
   "source": [
    "loja1 = Loja('rei dos pedais', ['caloi', 'colli', 'sense', 'nathor'], '111111111')"
   ]
  },
  {
   "cell_type": "code",
   "execution_count": 6,
   "id": "abea44cd",
   "metadata": {},
   "outputs": [],
   "source": [
    "loja1.cadastrar_cliente(cliente1)"
   ]
  },
  {
   "cell_type": "code",
   "execution_count": 11,
   "id": "24d20bb2",
   "metadata": {},
   "outputs": [
    {
     "name": "stdout",
     "output_type": "stream",
     "text": [
      "Loja rei dos pedais: caloi não está disponível!\n",
      "Cliente Ricardo: Não foi possível alugar a bicicleta caloi!\n",
      "Loja rei dos pedais: colli não está disponível!\n",
      "Cliente Ricardo: Não foi possível alugar a bicicleta colli!\n",
      "Loja rei dos pedais: sense não está disponível!\n",
      "Cliente Ricardo: Não foi possível alugar a bicicleta sense!\n",
      "Cliente Ricardo: Foram alugadas 0 bicicletas!\n"
     ]
    }
   ],
   "source": [
    "cliente1.alugar(loja1, ['caloi', 'colli', 'sense'], datetime.datetime(2023, 7, 12), 'd')"
   ]
  },
  {
   "cell_type": "code",
   "execution_count": 10,
   "id": "c87f6f5d",
   "metadata": {},
   "outputs": [
    {
     "name": "stdout",
     "output_type": "stream",
     "text": [
      "Loja rei dos pedais: nathor não está disponível!\n",
      "Cliente Ricardo: Não foi possível alugar a bicicleta nathor!\n",
      "Cliente Ricardo: Foram alugadas 0 bicicletas!\n"
     ]
    }
   ],
   "source": [
    "cliente1.alugar(loja1, ['nathor'], datetime.datetime(2023,7,13), 'd')"
   ]
  },
  {
   "cell_type": "code",
   "execution_count": 12,
   "id": "8644512d",
   "metadata": {},
   "outputs": [
    {
     "data": {
      "text/plain": [
       "{'caloi': False, 'colli': False, 'sense': False, 'nathor': False}"
      ]
     },
     "execution_count": 12,
     "metadata": {},
     "output_type": "execute_result"
    }
   ],
   "source": [
    "loja1.getDisponibilidade()"
   ]
  },
  {
   "cell_type": "code",
   "execution_count": 13,
   "id": "8be0b41f",
   "metadata": {},
   "outputs": [
    {
     "data": {
      "text/plain": [
       "{('nathor', '111111111'): False,\n",
       " ('caloi', '111111111'): True,\n",
       " ('colli', '111111111'): True,\n",
       " ('sense', '111111111'): True}"
      ]
     },
     "execution_count": 13,
     "metadata": {},
     "output_type": "execute_result"
    }
   ],
   "source": [
    "cliente1.getAlugadas()"
   ]
  },
  {
   "cell_type": "code",
   "execution_count": 14,
   "id": "cbb220b4",
   "metadata": {},
   "outputs": [
    {
     "name": "stdout",
     "output_type": "stream",
     "text": [
      "Preço total do aluguel na loja rei dos pedais = R$ 207.50\n"
     ]
    }
   ],
   "source": [
    "cliente1.devolver(loja1, ['caloi', 'colli', 'sense', 'nathor'], datetime.datetime(2023,7, 15))"
   ]
  },
  {
   "cell_type": "code",
   "execution_count": null,
   "id": "a4a0367c",
   "metadata": {},
   "outputs": [],
   "source": []
  },
  {
   "cell_type": "code",
   "execution_count": null,
   "id": "f6c66309",
   "metadata": {},
   "outputs": [],
   "source": []
  }
 ],
 "metadata": {
  "kernelspec": {
   "display_name": "Python 3 (ipykernel)",
   "language": "python",
   "name": "python3"
  },
  "language_info": {
   "codemirror_mode": {
    "name": "ipython",
    "version": 3
   },
   "file_extension": ".py",
   "mimetype": "text/x-python",
   "name": "python",
   "nbconvert_exporter": "python",
   "pygments_lexer": "ipython3",
   "version": "3.9.12"
  }
 },
 "nbformat": 4,
 "nbformat_minor": 5
}
