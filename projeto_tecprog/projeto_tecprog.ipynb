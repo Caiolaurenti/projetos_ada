{
 "cells": [
  {
   "cell_type": "markdown",
   "id": "c77ae531",
   "metadata": {},
   "source": [
    "## Introdução\n",
    "\n",
    "Faremos aqui uma análise exploratória dos dados sobre o _World Happiness Report_, a partir do seguinte _dataset_ do Kaggle. Fonte:\n",
    "https://www.kaggle.com/datasets/ajaypalsinghlo/world-happiness-report-2021\n",
    "\n",
    "Dados sobre como cada variável é medida podem ser encontrados aqui:\n",
    "\n",
    "https://happiness-report.s3.amazonaws.com/2021/Appendix1WHR2021C2.pdf\n",
    "\n",
    "O arquivo tem o valor medido pelo _World Happiness Report_, da _Gallup World Poll_, de vários indicadores quantitativos. Dentre eles, uma medida de felicidade (_Life Ladder_). O objetivo deste trabalho é fazer uma análise exploratória de tais dados, em particular analisando a situação do Brasil."
   ]
  },
  {
   "cell_type": "markdown",
   "id": "4cc6a983",
   "metadata": {},
   "source": [
    "## Imports\n",
    "\n",
    "Faremos aqui o *import* dos módulos a serem utilizados (ou não, pode haver *imports* supérfluos)."
   ]
  },
  {
   "cell_type": "code",
   "execution_count": 1,
   "id": "c7d38185",
   "metadata": {},
   "outputs": [],
   "source": [
    "import pandas as pd\n",
    "import numpy as np\n",
    "import matplotlib.pyplot as plt"
   ]
  },
  {
   "cell_type": "markdown",
   "id": "c3130e86",
   "metadata": {},
   "source": [
    "## Análise (sem rigor estatístico)"
   ]
  },
  {
   "cell_type": "markdown",
   "id": "bb272148",
   "metadata": {},
   "source": [
    "Primeiro, vamos carregar os dados e selecionar os dados referentes ao Brasil."
   ]
  },
  {
   "cell_type": "code",
   "execution_count": 2,
   "id": "d230d043",
   "metadata": {},
   "outputs": [],
   "source": [
    "df = pd.read_csv('world-happiness-report.csv')"
   ]
  },
  {
   "cell_type": "code",
   "execution_count": 3,
   "id": "668b9e8a",
   "metadata": {},
   "outputs": [],
   "source": [
    "df_br = df.loc[df['Country name'] == 'Brazil']"
   ]
  },
  {
   "cell_type": "code",
   "execution_count": 4,
   "id": "6ed39569",
   "metadata": {},
   "outputs": [
    {
     "data": {
      "text/html": [
       "<div>\n",
       "<style scoped>\n",
       "    .dataframe tbody tr th:only-of-type {\n",
       "        vertical-align: middle;\n",
       "    }\n",
       "\n",
       "    .dataframe tbody tr th {\n",
       "        vertical-align: top;\n",
       "    }\n",
       "\n",
       "    .dataframe thead th {\n",
       "        text-align: right;\n",
       "    }\n",
       "</style>\n",
       "<table border=\"1\" class=\"dataframe\">\n",
       "  <thead>\n",
       "    <tr style=\"text-align: right;\">\n",
       "      <th></th>\n",
       "      <th>Country name</th>\n",
       "      <th>year</th>\n",
       "      <th>Life Ladder</th>\n",
       "      <th>Log GDP per capita</th>\n",
       "      <th>Social support</th>\n",
       "      <th>Healthy life expectancy at birth</th>\n",
       "      <th>Freedom to make life choices</th>\n",
       "      <th>Generosity</th>\n",
       "      <th>Perceptions of corruption</th>\n",
       "      <th>Positive affect</th>\n",
       "      <th>Negative affect</th>\n",
       "    </tr>\n",
       "  </thead>\n",
       "  <tbody>\n",
       "    <tr>\n",
       "      <th>218</th>\n",
       "      <td>Brazil</td>\n",
       "      <td>2005</td>\n",
       "      <td>6.637</td>\n",
       "      <td>9.438</td>\n",
       "      <td>0.883</td>\n",
       "      <td>63.30</td>\n",
       "      <td>0.882</td>\n",
       "      <td>NaN</td>\n",
       "      <td>0.745</td>\n",
       "      <td>0.818</td>\n",
       "      <td>0.302</td>\n",
       "    </tr>\n",
       "    <tr>\n",
       "      <th>219</th>\n",
       "      <td>Brazil</td>\n",
       "      <td>2007</td>\n",
       "      <td>6.321</td>\n",
       "      <td>9.515</td>\n",
       "      <td>0.886</td>\n",
       "      <td>63.78</td>\n",
       "      <td>0.777</td>\n",
       "      <td>-0.016</td>\n",
       "      <td>0.728</td>\n",
       "      <td>0.859</td>\n",
       "      <td>0.299</td>\n",
       "    </tr>\n",
       "    <tr>\n",
       "      <th>220</th>\n",
       "      <td>Brazil</td>\n",
       "      <td>2008</td>\n",
       "      <td>6.691</td>\n",
       "      <td>9.555</td>\n",
       "      <td>0.878</td>\n",
       "      <td>64.02</td>\n",
       "      <td>0.782</td>\n",
       "      <td>-0.078</td>\n",
       "      <td>0.688</td>\n",
       "      <td>0.820</td>\n",
       "      <td>0.265</td>\n",
       "    </tr>\n",
       "    <tr>\n",
       "      <th>221</th>\n",
       "      <td>Brazil</td>\n",
       "      <td>2009</td>\n",
       "      <td>7.001</td>\n",
       "      <td>9.544</td>\n",
       "      <td>0.913</td>\n",
       "      <td>64.26</td>\n",
       "      <td>0.767</td>\n",
       "      <td>-0.055</td>\n",
       "      <td>0.723</td>\n",
       "      <td>0.833</td>\n",
       "      <td>0.274</td>\n",
       "    </tr>\n",
       "    <tr>\n",
       "      <th>222</th>\n",
       "      <td>Brazil</td>\n",
       "      <td>2010</td>\n",
       "      <td>6.837</td>\n",
       "      <td>9.607</td>\n",
       "      <td>0.906</td>\n",
       "      <td>64.50</td>\n",
       "      <td>0.806</td>\n",
       "      <td>-0.054</td>\n",
       "      <td>0.656</td>\n",
       "      <td>0.817</td>\n",
       "      <td>0.250</td>\n",
       "    </tr>\n",
       "    <tr>\n",
       "      <th>223</th>\n",
       "      <td>Brazil</td>\n",
       "      <td>2011</td>\n",
       "      <td>7.038</td>\n",
       "      <td>9.637</td>\n",
       "      <td>0.916</td>\n",
       "      <td>64.76</td>\n",
       "      <td>0.834</td>\n",
       "      <td>-0.072</td>\n",
       "      <td>0.662</td>\n",
       "      <td>0.807</td>\n",
       "      <td>0.268</td>\n",
       "    </tr>\n",
       "    <tr>\n",
       "      <th>224</th>\n",
       "      <td>Brazil</td>\n",
       "      <td>2012</td>\n",
       "      <td>6.660</td>\n",
       "      <td>9.647</td>\n",
       "      <td>0.890</td>\n",
       "      <td>65.02</td>\n",
       "      <td>0.849</td>\n",
       "      <td>NaN</td>\n",
       "      <td>0.623</td>\n",
       "      <td>0.755</td>\n",
       "      <td>0.350</td>\n",
       "    </tr>\n",
       "    <tr>\n",
       "      <th>225</th>\n",
       "      <td>Brazil</td>\n",
       "      <td>2013</td>\n",
       "      <td>7.140</td>\n",
       "      <td>9.668</td>\n",
       "      <td>0.910</td>\n",
       "      <td>65.28</td>\n",
       "      <td>0.785</td>\n",
       "      <td>-0.095</td>\n",
       "      <td>0.707</td>\n",
       "      <td>0.818</td>\n",
       "      <td>0.276</td>\n",
       "    </tr>\n",
       "    <tr>\n",
       "      <th>226</th>\n",
       "      <td>Brazil</td>\n",
       "      <td>2014</td>\n",
       "      <td>6.981</td>\n",
       "      <td>9.664</td>\n",
       "      <td>0.898</td>\n",
       "      <td>65.54</td>\n",
       "      <td>0.714</td>\n",
       "      <td>-0.115</td>\n",
       "      <td>0.710</td>\n",
       "      <td>0.788</td>\n",
       "      <td>0.274</td>\n",
       "    </tr>\n",
       "    <tr>\n",
       "      <th>227</th>\n",
       "      <td>Brazil</td>\n",
       "      <td>2015</td>\n",
       "      <td>6.547</td>\n",
       "      <td>9.620</td>\n",
       "      <td>0.907</td>\n",
       "      <td>65.80</td>\n",
       "      <td>0.799</td>\n",
       "      <td>-0.016</td>\n",
       "      <td>0.771</td>\n",
       "      <td>0.755</td>\n",
       "      <td>0.325</td>\n",
       "    </tr>\n",
       "    <tr>\n",
       "      <th>228</th>\n",
       "      <td>Brazil</td>\n",
       "      <td>2016</td>\n",
       "      <td>6.375</td>\n",
       "      <td>9.578</td>\n",
       "      <td>0.912</td>\n",
       "      <td>66.00</td>\n",
       "      <td>0.807</td>\n",
       "      <td>-0.100</td>\n",
       "      <td>0.781</td>\n",
       "      <td>0.763</td>\n",
       "      <td>0.302</td>\n",
       "    </tr>\n",
       "    <tr>\n",
       "      <th>229</th>\n",
       "      <td>Brazil</td>\n",
       "      <td>2017</td>\n",
       "      <td>6.333</td>\n",
       "      <td>9.583</td>\n",
       "      <td>0.905</td>\n",
       "      <td>66.20</td>\n",
       "      <td>0.765</td>\n",
       "      <td>-0.175</td>\n",
       "      <td>0.794</td>\n",
       "      <td>0.716</td>\n",
       "      <td>0.308</td>\n",
       "    </tr>\n",
       "    <tr>\n",
       "      <th>230</th>\n",
       "      <td>Brazil</td>\n",
       "      <td>2018</td>\n",
       "      <td>6.191</td>\n",
       "      <td>9.589</td>\n",
       "      <td>0.882</td>\n",
       "      <td>66.40</td>\n",
       "      <td>0.751</td>\n",
       "      <td>-0.117</td>\n",
       "      <td>0.763</td>\n",
       "      <td>0.750</td>\n",
       "      <td>0.350</td>\n",
       "    </tr>\n",
       "    <tr>\n",
       "      <th>231</th>\n",
       "      <td>Brazil</td>\n",
       "      <td>2019</td>\n",
       "      <td>6.451</td>\n",
       "      <td>9.592</td>\n",
       "      <td>0.899</td>\n",
       "      <td>66.60</td>\n",
       "      <td>0.830</td>\n",
       "      <td>-0.062</td>\n",
       "      <td>0.762</td>\n",
       "      <td>0.761</td>\n",
       "      <td>0.337</td>\n",
       "    </tr>\n",
       "    <tr>\n",
       "      <th>232</th>\n",
       "      <td>Brazil</td>\n",
       "      <td>2020</td>\n",
       "      <td>6.110</td>\n",
       "      <td>9.522</td>\n",
       "      <td>0.831</td>\n",
       "      <td>66.80</td>\n",
       "      <td>0.786</td>\n",
       "      <td>-0.053</td>\n",
       "      <td>0.729</td>\n",
       "      <td>0.692</td>\n",
       "      <td>0.389</td>\n",
       "    </tr>\n",
       "  </tbody>\n",
       "</table>\n",
       "</div>"
      ],
      "text/plain": [
       "    Country name  year  Life Ladder  Log GDP per capita  Social support  \\\n",
       "218       Brazil  2005        6.637               9.438           0.883   \n",
       "219       Brazil  2007        6.321               9.515           0.886   \n",
       "220       Brazil  2008        6.691               9.555           0.878   \n",
       "221       Brazil  2009        7.001               9.544           0.913   \n",
       "222       Brazil  2010        6.837               9.607           0.906   \n",
       "223       Brazil  2011        7.038               9.637           0.916   \n",
       "224       Brazil  2012        6.660               9.647           0.890   \n",
       "225       Brazil  2013        7.140               9.668           0.910   \n",
       "226       Brazil  2014        6.981               9.664           0.898   \n",
       "227       Brazil  2015        6.547               9.620           0.907   \n",
       "228       Brazil  2016        6.375               9.578           0.912   \n",
       "229       Brazil  2017        6.333               9.583           0.905   \n",
       "230       Brazil  2018        6.191               9.589           0.882   \n",
       "231       Brazil  2019        6.451               9.592           0.899   \n",
       "232       Brazil  2020        6.110               9.522           0.831   \n",
       "\n",
       "     Healthy life expectancy at birth  Freedom to make life choices  \\\n",
       "218                             63.30                         0.882   \n",
       "219                             63.78                         0.777   \n",
       "220                             64.02                         0.782   \n",
       "221                             64.26                         0.767   \n",
       "222                             64.50                         0.806   \n",
       "223                             64.76                         0.834   \n",
       "224                             65.02                         0.849   \n",
       "225                             65.28                         0.785   \n",
       "226                             65.54                         0.714   \n",
       "227                             65.80                         0.799   \n",
       "228                             66.00                         0.807   \n",
       "229                             66.20                         0.765   \n",
       "230                             66.40                         0.751   \n",
       "231                             66.60                         0.830   \n",
       "232                             66.80                         0.786   \n",
       "\n",
       "     Generosity  Perceptions of corruption  Positive affect  Negative affect  \n",
       "218         NaN                      0.745            0.818            0.302  \n",
       "219      -0.016                      0.728            0.859            0.299  \n",
       "220      -0.078                      0.688            0.820            0.265  \n",
       "221      -0.055                      0.723            0.833            0.274  \n",
       "222      -0.054                      0.656            0.817            0.250  \n",
       "223      -0.072                      0.662            0.807            0.268  \n",
       "224         NaN                      0.623            0.755            0.350  \n",
       "225      -0.095                      0.707            0.818            0.276  \n",
       "226      -0.115                      0.710            0.788            0.274  \n",
       "227      -0.016                      0.771            0.755            0.325  \n",
       "228      -0.100                      0.781            0.763            0.302  \n",
       "229      -0.175                      0.794            0.716            0.308  \n",
       "230      -0.117                      0.763            0.750            0.350  \n",
       "231      -0.062                      0.762            0.761            0.337  \n",
       "232      -0.053                      0.729            0.692            0.389  "
      ]
     },
     "execution_count": 4,
     "metadata": {},
     "output_type": "execute_result"
    }
   ],
   "source": [
    "df_br"
   ]
  },
  {
   "cell_type": "markdown",
   "id": "f1a10f69",
   "metadata": {},
   "source": [
    "### Sobre o Índice de Felicidade\n",
    "\n",
    "O índice é calculado como a média nacional, a cada ano, da resposta para a pergunta \"Imagine uma escada com degraus numerados de 0 a 10, de forma crescente. O topo representa a melhor vida para você, e o degrau mais baixo, a pior. Em qual degrau você, pessoalmente, sente que se encontra?\" (minha tradução livre do documento encontrado no começo deste projeto)."
   ]
  },
  {
   "cell_type": "markdown",
   "id": "34486ac2",
   "metadata": {},
   "source": [
    "Observando o _dataframe_ referente aos dados do Brasil, vemos que já está ordenado, de forma crescente, com respeito aos anos. Vamos _plotar_ o valor de felicidade e o PIB per capita em função dos anos, para ver se enxergamos alguma tendência."
   ]
  },
  {
   "cell_type": "code",
   "execution_count": 6,
   "id": "5eec048d",
   "metadata": {},
   "outputs": [],
   "source": [
    "anos = df_br['year']\n",
    "pib = df_br['Log GDP per capita']\n",
    "felicidade = df_br['Life Ladder']"
   ]
  },
  {
   "cell_type": "code",
   "execution_count": 7,
   "id": "22702c27",
   "metadata": {},
   "outputs": [
    {
     "data": {
      "image/png": "[encoded data removed]",
      "text/plain": [
       "<Figure size 432x288 with 2 Axes>"
      ]
     },
     "metadata": {
      "needs_background": "light"
     },
     "output_type": "display_data"
    }
   ],
   "source": [
    "fig, ax1 = plt.subplots()\n",
    "\n",
    "color = 'green'\n",
    "ax1.set_xlabel('ano')\n",
    "ax1.set_ylabel('Índice de felicidade')\n",
    "ax1.plot(anos, felicidade, color = color, label = 'Felicidade')\n",
    "ax1.tick_params(axis = 'y', color = color)\n",
    "\n",
    "ax2 = ax1.twinx()\n",
    "\n",
    "color = 'blue'\n",
    "ax2.set_xlabel('ano')\n",
    "ax2.set_ylabel('Log PIB/capita')\n",
    "ax2.plot(anos, pib, color = color, label = 'Log PIB/capita')\n",
    "ax2.tick_params(axis = 'y', color = color)\n",
    "\n",
    "\n",
    "fig.legend(loc=\"upper right\")\n",
    "plt.title('Felicidade vs. PIB - Brasil')\n",
    "plt.show()\n"
   ]
  },
  {
   "cell_type": "markdown",
   "id": "fe9ba216",
   "metadata": {},
   "source": [
    "É possível perceber que, aproximadamente em 2013, a felicidade atinge seu pico, assim como o PIB _per capita_ (em dólares). A partir de então, o índice de felicidade têm uma queda brusca, assim como o PIB. Isso parece indicar que, até 2013, o PIB e o índice de felicidade estavam menos relacionados (em 2009, é possível observar um pico do índice de felicidade coincidindo com um vale do PIB _per capita_). "
   ]
  },
  {
   "cell_type": "markdown",
   "id": "7551a83f",
   "metadata": {},
   "source": [
    "### Correlação de Pearson\n",
    "\n",
    "A correlação de Pearson entre dois vetores $u, v \\in \\mathbb{R}^n$, $v = (v_1, \\dots, v_n), u = (u_1, \\dots, u_n)$ é dada por\n",
    "$$\\operatorname{Corr}(u, v) = \\frac{\\sum_{i = 1}^n(v_i - \\bar{v})(u_i - \\bar{u})}{\\sqrt((\\sum_{i=0}^n (v_i - \\bar{v})^2)(\\sum_{i=1}^n (u_i - \\bar{u})^2))}$$\n",
    "\n",
    "Ela mede estima o quanto a variação da variável da qual amostramos $v$ \"depende linearmente\" da variável da qual amostramos $u$. Assim, é uma medida de como se relacionam as variáveis de onde amostramos $u$ e $v$. Uma correlação positiva indica que o crescimento de uma indica o crescimento da outra, e negativa que o decrescimento de uma indica o crescimento da outra.\n",
    "\n",
    "Duas variáveis independentes (no sentido estatístico) têm correlação 0, enquanto correlação 0 não indica independência. Ela indica independência apenas se considerarmos uma \"dependência linear\" (não confundir com a noção de algelin)."
   ]
  },
  {
   "cell_type": "code",
   "execution_count": 47,
   "id": "b87aab5f",
   "metadata": {},
   "outputs": [
    {
     "data": {
      "text/html": [
       "<div>\n",
       "<style scoped>\n",
       "    .dataframe tbody tr th:only-of-type {\n",
       "        vertical-align: middle;\n",
       "    }\n",
       "\n",
       "    .dataframe tbody tr th {\n",
       "        vertical-align: top;\n",
       "    }\n",
       "\n",
       "    .dataframe thead th {\n",
       "        text-align: right;\n",
       "    }\n",
       "</style>\n",
       "<table border=\"1\" class=\"dataframe\">\n",
       "  <thead>\n",
       "    <tr style=\"text-align: right;\">\n",
       "      <th></th>\n",
       "      <th>Life Ladder</th>\n",
       "      <th>Log GDP per capita</th>\n",
       "    </tr>\n",
       "  </thead>\n",
       "  <tbody>\n",
       "    <tr>\n",
       "      <th>Life Ladder</th>\n",
       "      <td>1.000000</td>\n",
       "      <td>0.458006</td>\n",
       "    </tr>\n",
       "    <tr>\n",
       "      <th>Log GDP per capita</th>\n",
       "      <td>0.458006</td>\n",
       "      <td>1.000000</td>\n",
       "    </tr>\n",
       "  </tbody>\n",
       "</table>\n",
       "</div>"
      ],
      "text/plain": [
       "                    Life Ladder  Log GDP per capita\n",
       "Life Ladder            1.000000            0.458006\n",
       "Log GDP per capita     0.458006            1.000000"
      ]
     },
     "execution_count": 47,
     "metadata": {},
     "output_type": "execute_result"
    }
   ],
   "source": [
    "df_br[['Life Ladder', 'Log GDP per capita']].corr()"
   ]
  },
  {
   "cell_type": "markdown",
   "id": "ee5c5274",
   "metadata": {},
   "source": [
    "Acima vemos que, ao se considerar todo o período de 2005-2020, a correlação entre PIB _per capita_ e o índice de felicidade é fraca, o que de certa forma é compatível com a nossa análise inicial."
   ]
  },
  {
   "cell_type": "markdown",
   "id": "b90544f1",
   "metadata": {},
   "source": [
    "### Índice de percepção de corrupção\n",
    "\n",
    "Esse índice é a média nacional de um número calculado da seguinte forma: primeiro, obseva-se, para cada entrevistado, as respostas às perguntas \"A corrupção é difundida pelo governo ou não?\" e \"A corrupção é difundida nas empresas ou não?\", em que 1 é sim e 0 é não. Depois, calcula-se a média nacional entre os entrevistados."
   ]
  },
  {
   "cell_type": "code",
   "execution_count": 8,
   "id": "c2cce074",
   "metadata": {},
   "outputs": [],
   "source": [
    "corrupcao = df_br['Perceptions of corruption']"
   ]
  },
  {
   "cell_type": "code",
   "execution_count": 9,
   "id": "753562f9",
   "metadata": {},
   "outputs": [
    {
     "data": {
      "image/png": "[encoded data removed]",
      "text/plain": [
       "<Figure size 432x288 with 2 Axes>"
      ]
     },
     "metadata": {
      "needs_background": "light"
     },
     "output_type": "display_data"
    }
   ],
   "source": [
    "fig, ax1 = plt.subplots()\n",
    "\n",
    "color = 'green'\n",
    "ax1.set_xlabel('ano')\n",
    "ax1.set_ylabel('Índice de felicidade')\n",
    "ax1.plot(anos, felicidade, color = color, label = 'Felicidade')\n",
    "ax1.tick_params(axis = 'y', color = color)\n",
    "\n",
    "ax2 = ax1.twinx()\n",
    "\n",
    "color = 'red'\n",
    "ax2.set_xlabel('ano')\n",
    "ax2.set_ylabel('Corrupção')\n",
    "ax2.plot(anos, corrupcao, color = color, label = 'Corrupção')\n",
    "ax2.tick_params(axis = 'y', color = color)\n",
    "\n",
    "\n",
    "fig.legend(loc=\"upper right\")\n",
    "plt.title('Felicidade vs. Corrupção - Brasil')\n",
    "plt.show()\n"
   ]
  },
  {
   "cell_type": "markdown",
   "id": "69f9fb19",
   "metadata": {},
   "source": [
    "Mais uma vez, é possível observar uma aparente correlação, esperada, entre a percepção de corrupção e o índice de felicidade. A partir de 2013, vemos a primeira crescer enquanto a segunda diminui."
   ]
  },
  {
   "cell_type": "code",
   "execution_count": 49,
   "id": "f1237adf",
   "metadata": {},
   "outputs": [
    {
     "data": {
      "text/html": [
       "<div>\n",
       "<style scoped>\n",
       "    .dataframe tbody tr th:only-of-type {\n",
       "        vertical-align: middle;\n",
       "    }\n",
       "\n",
       "    .dataframe tbody tr th {\n",
       "        vertical-align: top;\n",
       "    }\n",
       "\n",
       "    .dataframe thead th {\n",
       "        text-align: right;\n",
       "    }\n",
       "</style>\n",
       "<table border=\"1\" class=\"dataframe\">\n",
       "  <thead>\n",
       "    <tr style=\"text-align: right;\">\n",
       "      <th></th>\n",
       "      <th>Life Ladder</th>\n",
       "      <th>Perceptions of corruption</th>\n",
       "    </tr>\n",
       "  </thead>\n",
       "  <tbody>\n",
       "    <tr>\n",
       "      <th>Life Ladder</th>\n",
       "      <td>1.000000</td>\n",
       "      <td>-0.556958</td>\n",
       "    </tr>\n",
       "    <tr>\n",
       "      <th>Perceptions of corruption</th>\n",
       "      <td>-0.556958</td>\n",
       "      <td>1.000000</td>\n",
       "    </tr>\n",
       "  </tbody>\n",
       "</table>\n",
       "</div>"
      ],
      "text/plain": [
       "                           Life Ladder  Perceptions of corruption\n",
       "Life Ladder                   1.000000                  -0.556958\n",
       "Perceptions of corruption    -0.556958                   1.000000"
      ]
     },
     "execution_count": 49,
     "metadata": {},
     "output_type": "execute_result"
    }
   ],
   "source": [
    "df_br[['Life Ladder', 'Perceptions of corruption']].corr()"
   ]
  },
  {
   "cell_type": "markdown",
   "id": "58a5d4c8",
   "metadata": {},
   "source": [
    "Vemos, assim, uma correlação negativa moderada entre a percepção de corrupção e o índice de felicidade."
   ]
  },
  {
   "cell_type": "markdown",
   "id": "da5a23e3",
   "metadata": {},
   "source": [
    "### Comparação com o resto do mundo"
   ]
  },
  {
   "cell_type": "markdown",
   "id": "afca398c",
   "metadata": {},
   "source": [
    "Agora vamos comparar, para cada ano, o índice de felicidade do Brasil com a média mundial, para ver se as tendências que conjecturamos acima são um fenômeno interno, ou parte de um movimento mundial."
   ]
  },
  {
   "cell_type": "markdown",
   "id": "5614881a",
   "metadata": {},
   "source": [
    "Abaixo, calculamos, para cada variável considerada, as médias anuais."
   ]
  },
  {
   "cell_type": "code",
   "execution_count": 11,
   "id": "923642da",
   "metadata": {},
   "outputs": [],
   "source": [
    "variaveis = ['Life Ladder', 'Log GDP per capita', 'Perceptions of corruption']\n",
    "medias = dict()\n",
    "for var in variaveis:\n",
    "    medias[var] = [df.loc[df['year'] == ano][var].mean() for ano in anos]"
   ]
  },
  {
   "cell_type": "markdown",
   "id": "9bcdf149",
   "metadata": {},
   "source": [
    "Plotamos primeiro o gráfico de felicidade comparativamente com o PIB per capita médios."
   ]
  },
  {
   "cell_type": "code",
   "execution_count": 12,
   "id": "94cbd18c",
   "metadata": {},
   "outputs": [
    {
     "data": {
      "image/png": "[encoded data removed]",
      "text/plain": [
       "<Figure size 432x288 with 2 Axes>"
      ]
     },
     "metadata": {
      "needs_background": "light"
     },
     "output_type": "display_data"
    }
   ],
   "source": [
    "fig, ax1 = plt.subplots()\n",
    "\n",
    "color = 'green'\n",
    "ax1.set_xlabel('Ano')\n",
    "ax1.set_ylabel('Índice de felicidade')\n",
    "ax1.plot(anos, medias['Life Ladder'], color = color, label = 'Felicidade')\n",
    "ax1.tick_params(axis = 'y', color = color)\n",
    "\n",
    "ax2 = ax1.twinx()\n",
    "\n",
    "color = 'blue'\n",
    "ax2.set_xlabel('Ano')\n",
    "ax2.set_ylabel('Corrupção')\n",
    "ax2.plot(anos, medias['Log GDP per capita'], color = color, label = 'Log GDP/Capita')\n",
    "ax2.tick_params(axis = 'y', color = color)\n",
    "\n",
    "\n",
    "fig.legend(loc=\"upper right\")\n",
    "plt.title('Felicidade vs. PIB - Mundo')\n",
    "plt.show()"
   ]
  },
  {
   "cell_type": "markdown",
   "id": "72519223",
   "metadata": {},
   "source": [
    "Vemos que, diferentemente do caso do Brasil, o crescimento da variável de felicidade segue junto ao crescimento do PIB per capita, com os dois em tendência de alta em 2020. Acredito que a medida de 2006 seja alguma peculiaridade na pesquisa à época."
   ]
  },
  {
   "cell_type": "code",
   "execution_count": 73,
   "id": "ace186d9",
   "metadata": {},
   "outputs": [
    {
     "data": {
      "text/plain": [
       "array([[1.        , 0.93576662],\n",
       "       [0.93576662, 1.        ]])"
      ]
     },
     "execution_count": 73,
     "metadata": {},
     "output_type": "execute_result"
    }
   ],
   "source": [
    "np.corrcoef(medias['Life Ladder'], medias['Log GDP per capita'])"
   ]
  },
  {
   "cell_type": "markdown",
   "id": "0da4b38d",
   "metadata": {},
   "source": [
    "Calculando a correlação de Pearson, vemos que as duas variáveis são bastante correlatas."
   ]
  },
  {
   "cell_type": "markdown",
   "id": "acb1fe8b",
   "metadata": {},
   "source": [
    "Agora façamos o mesmo para a variável de percepção de corrupção:"
   ]
  },
  {
   "cell_type": "code",
   "execution_count": 13,
   "id": "e21c99e5",
   "metadata": {},
   "outputs": [
    {
     "data": {
      "image/png": "[encoded data removed]",
      "text/plain": [
       "<Figure size 432x288 with 2 Axes>"
      ]
     },
     "metadata": {
      "needs_background": "light"
     },
     "output_type": "display_data"
    }
   ],
   "source": [
    "fig, ax1 = plt.subplots()\n",
    "\n",
    "color = 'green'\n",
    "ax1.set_xlabel('Ano')\n",
    "ax1.set_ylabel('Índice de felicidade')\n",
    "ax1.plot(anos, medias['Life Ladder'], color = color, label = 'Felicidade')\n",
    "ax1.tick_params(axis = 'y', color = color)\n",
    "\n",
    "ax2 = ax1.twinx()\n",
    "\n",
    "color = 'red'\n",
    "ax2.set_xlabel('Ano')\n",
    "ax2.set_ylabel('Corrupção')\n",
    "ax2.plot(anos, medias['Perceptions of corruption'], color = color, label = 'Corrupção')\n",
    "ax2.tick_params(axis = 'y', color = color)\n",
    "\n",
    "\n",
    "fig.legend(loc=\"upper right\")\n",
    "plt.title('Felicidade vs. Corrupção - Mundo')\n",
    "plt.show()"
   ]
  },
  {
   "cell_type": "markdown",
   "id": "c85d02ef",
   "metadata": {},
   "source": [
    "Conforme esperado, se a percepção de corrupção diminui, a felicidade cresce. Nota-se um aumento da felicidade com a aproximação de 2020, e a diminuição da percepção de corrupção."
   ]
  },
  {
   "cell_type": "code",
   "execution_count": 14,
   "id": "c3f192c2",
   "metadata": {},
   "outputs": [
    {
     "data": {
      "text/plain": [
       "array([[ 1.        , -0.57960514],\n",
       "       [-0.57960514,  1.        ]])"
      ]
     },
     "execution_count": 14,
     "metadata": {},
     "output_type": "execute_result"
    }
   ],
   "source": [
    "np.corrcoef(medias['Life Ladder'], medias['Perceptions of corruption'])"
   ]
  },
  {
   "cell_type": "markdown",
   "id": "979a9c78",
   "metadata": {},
   "source": [
    "Vemos acima que a corrupção e a felicidade são moderadamente e negativamente correlatas (no sentido de Pearson)."
   ]
  },
  {
   "cell_type": "markdown",
   "id": "161d7345",
   "metadata": {},
   "source": [
    "Por fim, vamos comparar o Brasil com a média mundial:"
   ]
  },
  {
   "cell_type": "code",
   "execution_count": 15,
   "id": "1c42df27",
   "metadata": {},
   "outputs": [
    {
     "data": {
      "image/png": "[encoded data removed]",
      "text/plain": [
       "<Figure size 432x288 with 1 Axes>"
      ]
     },
     "metadata": {
      "needs_background": "light"
     },
     "output_type": "display_data"
    }
   ],
   "source": [
    "plt.plot(anos, felicidade, color = 'green', label = 'Brasil')\n",
    "plt.plot(anos, medias['Life Ladder'], color = 'grey', label = 'Média Mundo')\n",
    "plt.legend()\n",
    "plt.show()"
   ]
  },
  {
   "cell_type": "markdown",
   "id": "61dc0f53",
   "metadata": {},
   "source": [
    "Assim, vemos que o Brasil teve sempre um índice de felicidade acima da média. No entanto, enquanto a média mundial tem uma tendência de crescimento no período considerado, o Brasil, depois de um pico por volta de 2014, teve sua felicidade com tendência de queda."
   ]
  },
  {
   "cell_type": "markdown",
   "id": "f8ef3362",
   "metadata": {},
   "source": [
    "## Conclusão\n",
    "\n",
    "Vemos que 2013 é um ano em que observamos mudanças nas tendências das variáveis consideráveis. Isso é compatível com a noção bastante difundida de que foi neste ano, mais especificamente durante a onda de protestos conhecidas como \"Jornadas de Junho\", começou a ser gestada a crise social-econômica-política cujos efeitos ainda se desdobram até hoje. Não é possível, no entanto, concluir nada com profundidade, pois este trabalho é uma análise superficial, que não examina a partir do rigor científico os dados obtidos e nem os relaciona a estudos mais aprofundados. É mais como uma curiosidade aliada à uma livre associação de ideias."
   ]
  }
 ],
 "metadata": {
  "kernelspec": {
   "display_name": "Python 3 (ipykernel)",
   "language": "python",
   "name": "python3"
  },
  "language_info": {
   "codemirror_mode": {
    "name": "ipython",
    "version": 3
   },
   "file_extension": ".py",
   "mimetype": "text/x-python",
   "name": "python",
   "nbconvert_exporter": "python",
   "pygments_lexer": "ipython3",
   "version": "3.9.12"
  }
 },
 "nbformat": 4,
 "nbformat_minor": 5
}
